{
 "cells": [
  {
   "cell_type": "code",
   "execution_count": 1,
   "metadata": {},
   "outputs": [],
   "source": [
    "import argparse\n",
    "import time\n",
    "from pathlib import Path\n",
    "\n",
    "import cv2\n",
    "import torch\n",
    "import torch.backends.cudnn as cudnn\n",
    "from numpy import random\n",
    "\n",
    "from models.experimental import attempt_load\n",
    "from utils.datasets import LoadStreams, LoadImages\n",
    "from utils.general import check_img_size, check_requirements, check_imshow, non_max_suppression, apply_classifier, \\\n",
    "    scale_coords, xyxy2xywh, strip_optimizer, set_logging, increment_path\n",
    "from utils.plots import plot_one_box\n",
    "from utils.torch_utils import select_device, load_classifier, time_synchronized, TracedModel"
   ]
  },
  {
   "cell_type": "code",
   "execution_count": 2,
   "metadata": {},
   "outputs": [
    {
     "name": "stdout",
     "output_type": "stream",
     "text": [
      "\n",
      "Is Torch Available:True\n",
      "torch.cuda.device_count:1\n",
      "torch.cuda.current_device:0\n"
     ]
    }
   ],
   "source": [
    "print(f\"\\nIs Torch Available:{torch.cuda.is_available()}\")\n",
    "print(f\"torch.cuda.device_count:{torch.cuda.device_count()}\")\n",
    "print(f\"torch.cuda.current_device:{torch.cuda.current_device()}\")\n"
   ]
  },
  {
   "cell_type": "code",
   "execution_count": 3,
   "metadata": {},
   "outputs": [],
   "source": [
    "#python detect.py --weights yolov7.pt --conf 0.25 --img-size 640 --source yourvideo.mp4\n",
    "\n",
    "save_conf   = True\n",
    "agnostic_nms= False\n",
    "augment     = False\n",
    "update      = True\n",
    "view_img    = False\n",
    "save_txt    = True\n",
    "exist_ok    = True\n",
    "no_trace    = False\n",
    "\n",
    "source      = '../data/input_video.mp4'\n",
    "weights     = 'yolov7.pt'\n",
    "img_size    = 640\n",
    "trace       = True\n",
    "nosave      = False\n",
    "conf_thres  = 0.25\n",
    "iou_thres   = 0.45\n",
    "device      = ''\n",
    "classes     = None\n",
    "project     = 'runs/detect'\n",
    "name        = 'exp'\n",
    "\n",
    "\n",
    "save_img  = not nosave and not source.endswith('.txt') \n",
    "webcam      = source.isnumeric() or source.endswith('.txt') or source.lower().startswith(\n",
    "    ('rtsp://', 'rtmp://', 'http://', 'https://'))"
   ]
  },
  {
   "cell_type": "code",
   "execution_count": 4,
   "metadata": {},
   "outputs": [
    {
     "name": "stderr",
     "output_type": "stream",
     "text": [
      "YOLOR 🚀 v0.1-122-g3b41c2c torch 2.1.0.dev20230407+cu117 CUDA:0 (Tesla V100-PCIE-16GB, 16151.125MB)\n",
      "\n"
     ]
    }
   ],
   "source": [
    "#source, weights, view_img, save_txt, imgsz, trace = opt.source, opt.weights, opt.view_img, opt.save_txt, opt.img_size, not opt.no_trace\n",
    "#save_img = not opt.nosave and not source.endswith('.txt')  # save inference images\n",
    "#webcam = source.isnumeric() or source.endswith('.txt') or source.lower().startswith(\n",
    "#    ('rtsp://', 'rtmp://', 'http://', 'https://'))\n",
    "\n",
    "# Directories\n",
    "save_dir = Path(increment_path(Path(project) / name, exist_ok=exist_ok))  # increment run\n",
    "(save_dir / 'labels' if save_txt else save_dir).mkdir(parents=True, exist_ok=True)  # make dir\n",
    "\n",
    "# Initialize\n",
    "set_logging()\n",
    "device = select_device(device)\n",
    "half = device.type != 'cpu'  # half precision only supported on CUDA\n"
   ]
  },
  {
   "cell_type": "code",
   "execution_count": 5,
   "metadata": {},
   "outputs": [
    {
     "name": "stdout",
     "output_type": "stream",
     "text": [
      "Fusing layers... \n",
      "RepConv.fuse_repvgg_block\n",
      "RepConv.fuse_repvgg_block\n",
      "RepConv.fuse_repvgg_block\n"
     ]
    },
    {
     "name": "stderr",
     "output_type": "stream",
     "text": [
      "Model Summary: 306 layers, 36905341 parameters, 36905341 gradients\n",
      "/home/ugrads/nonmajors/nalostta/miniconda3/envs/pt_gpu/lib/python3.9/site-packages/torch/nn/modules/module.py:831: UserWarning: The .grad attribute of a Tensor that is not a leaf Tensor is being accessed. Its .grad attribute won't be populated during autograd.backward(). If you indeed want the .grad field to be populated for a non-leaf Tensor, use .retain_grad() on the non-leaf Tensor. If you access the non-leaf Tensor by mistake, make sure you access the leaf Tensor instead. See github.com/pytorch/pytorch/pull/30531 for more informations. (Triggered internally at aten/src/ATen/core/TensorBody.h:486.)\n",
      "  if param.grad is not None:\n"
     ]
    },
    {
     "name": "stdout",
     "output_type": "stream",
     "text": [
      " Convert model to Traced-model... \n",
      " traced_script_module saved! \n",
      " model is traced! \n",
      "\n"
     ]
    }
   ],
   "source": [
    "# Load model\n",
    "model = attempt_load(weights, map_location=device)  # load FP32 model\n",
    "stride = int(model.stride.max())  # model stride\n",
    "imgsz = check_img_size(img_size, s=stride)  # check img_size\n",
    "\n",
    "if trace:\n",
    "    model = TracedModel(model, device, img_size)\n",
    "\n",
    "if half:\n",
    "    model.half()  # to FP16\n",
    "\n",
    "# Second-stage classifier\n",
    "classify = False\n",
    "if classify:\n",
    "    modelc = load_classifier(name='resnet101', n=2)  # initialize\n",
    "    modelc.load_state_dict(torch.load('weights/resnet101.pt', map_location=device)['model']).to(device).eval()"
   ]
  },
  {
   "cell_type": "code",
   "execution_count": 6,
   "metadata": {},
   "outputs": [
    {
     "name": "stderr",
     "output_type": "stream",
     "text": [
      "/home/ugrads/nonmajors/nalostta/miniconda3/envs/pt_gpu/lib/python3.9/site-packages/torch/functional.py:505: UserWarning: torch.meshgrid: in an upcoming release, it will be required to pass the indexing argument. (Triggered internally at ../aten/src/ATen/native/TensorShape.cpp:3492.)\n",
      "  return _VF.meshgrid(tensors, **kwargs)  # type: ignore[attr-defined]\n"
     ]
    }
   ],
   "source": [
    "# Set Dataloader\n",
    "vid_path, vid_writer = None, None\n",
    "if webcam:\n",
    "    view_img = check_imshow()\n",
    "    cudnn.benchmark = True  # set True to speed up constant image size inference\n",
    "    dataset = LoadStreams(source, img_size=imgsz, stride=stride)\n",
    "else:\n",
    "    dataset = LoadImages(source, img_size=imgsz, stride=stride)\n",
    "\n",
    "# Get names and colors\n",
    "names = model.module.names if hasattr(model, 'module') else model.names\n",
    "colors = [[random.randint(0, 255) for _ in range(3)] for _ in names]\n",
    "\n",
    "# Run inference\n",
    "if device.type != 'cpu':\n",
    "    model(torch.zeros(1, 3, imgsz, imgsz).to(device).type_as(next(model.parameters())))  # run once\n",
    "old_img_w = old_img_h = imgsz\n",
    "old_img_b = 1"
   ]
  },
  {
   "cell_type": "code",
   "execution_count": null,
   "metadata": {},
   "outputs": [],
   "source": [
    "t0 = time.time()\n",
    "for path, img, im0s, vid_cap in dataset:\n",
    "    img = torch.from_numpy(img).to(device)\n",
    "    img = img.half() if half else img.float()  # uint8 to fp16/32\n",
    "    img /= 255.0  # 0 - 255 to 0.0 - 1.0\n",
    "    if img.ndimension() == 3:\n",
    "        img = img.unsqueeze(0)\n",
    "\n",
    "    #print(f\"\\n\\n-frame {getattr(dataset, 'frame', 0)}\\n\\n\")\n",
    "\n",
    "    # Warmup\n",
    "    if device != 'cpu' and (old_img_b != img.shape[0] or old_img_h != img.shape[2] or old_img_w != img.shape[3]):\n",
    "        old_img_b = img.shape[0]\n",
    "        old_img_h = img.shape[2]\n",
    "        old_img_w = img.shape[3]\n",
    "        for i in range(3):\n",
    "            model(img, augment=augment)[0]\n",
    "\n",
    "    # Inference\n",
    "    t1 = time_synchronized()\n",
    "    with torch.no_grad():   # Calculating gradients would cause a GPU memory leak\n",
    "        pred = model(img, augment=augment)[0]\n",
    "    t2 = time_synchronized()\n",
    "\n",
    "    # Apply NMS\n",
    "    pred = non_max_suppression(pred, conf_thres, iou_thres, classes=classes, agnostic=agnostic_nms)\n",
    "    t3 = time_synchronized()\n",
    "\n",
    "    # Apply Classifier\n",
    "    if classify:\n",
    "        pred = apply_classifier(pred, modelc, img, im0s)\n",
    "\n",
    "    # Process detections\n",
    "    for i, det in enumerate(pred):  # detections per image\n",
    "        if webcam:  # batch_size >= 1\n",
    "            p, s, im0, frame = path[i], '%g: ' % i, im0s[i].copy(), dataset.count\n",
    "        else:\n",
    "            p, s, im0, frame = path, '', im0s, getattr(dataset, 'frame', 0)\n",
    "\n",
    "        p = Path(p)  # to Path\n",
    "        save_path = str(save_dir / p.name)  # img.jpg\n",
    "        txt_path = str(save_dir / 'labels' / p.stem) + ('' if dataset.mode == 'image' else f'_{frame}')  # img.txt\n",
    "        gn = torch.tensor(im0.shape)[[1, 0, 1, 0]]  # normalization gain whwh\n",
    "        if len(det):\n",
    "            # Rescale boxes from img_size to im0 size\n",
    "            det[:, :4] = scale_coords(img.shape[2:], det[:, :4], im0.shape).round()\n",
    "\n",
    "            # Print results\n",
    "            for c in det[:, -1].unique():\n",
    "                n = (det[:, -1] == c).sum()  # detections per class\n",
    "                s += f\"{n} {names[int(c)]}{'s' * (n > 1)}, \"  # add to string\n",
    "\n",
    "            # Write results\n",
    "            for *xyxy, conf, cls in reversed(det):\n",
    "                if save_txt:  # Write to file\n",
    "                    xywh = (xyxy2xywh(torch.tensor(xyxy).view(1, 4)) / gn).view(-1).tolist()  # normalized xywh\n",
    "                    line = (cls, *xywh, conf) if save_conf else (cls, *xywh)  # label format\n",
    "                    with open(txt_path + '.txt', 'a') as f:\n",
    "                        f.write(('%g ' * len(line)).rstrip() % line + '\\n')\n",
    "\n",
    "                if save_img or view_img:  # Add bbox to image\n",
    "                    label = f'{names[int(cls)]} {conf:.2f}'\n",
    "                    plot_one_box(xyxy, im0, label=label, color=colors[int(cls)], line_thickness=1)\n",
    "\n",
    "        # Print time (inference + NMS)\n",
    "        print(f'{s}Done. ({(1E3 * (t2 - t1)):.1f}ms) Inference, ({(1E3 * (t3 - t2)):.1f}ms) NMS')\n",
    "\n",
    "        # Stream results\n",
    "        if view_img:\n",
    "            cv2.imshow(str(p), im0)\n",
    "            cv2.waitKey(1)  # 1 millisecond\n",
    "\n",
    "        # Save results (image with detections)\n",
    "        if save_img:\n",
    "            if dataset.mode == 'image':\n",
    "                cv2.imwrite(save_path, im0)\n",
    "                print(f\" The image with the result is saved in: {save_path}\")\n",
    "            else:  # 'video' or 'stream'\n",
    "                if vid_path != save_path:  # new video\n",
    "                    vid_path = save_path\n",
    "                    if isinstance(vid_writer, cv2.VideoWriter):\n",
    "                        vid_writer.release()  # release previous video writer\n",
    "                    if vid_cap:  # video\n",
    "                        fps = vid_cap.get(cv2.CAP_PROP_FPS)\n",
    "                        w = int(vid_cap.get(cv2.CAP_PROP_FRAME_WIDTH))\n",
    "                        h = int(vid_cap.get(cv2.CAP_PROP_FRAME_HEIGHT))\n",
    "                    else:  # stream\n",
    "                        fps, w, h = 30, im0.shape[1], im0.shape[0]\n",
    "                        save_path += '.mp4'\n",
    "                    vid_writer = cv2.VideoWriter(save_path, cv2.VideoWriter_fourcc(*'mp4v'), fps, (w, h))\n",
    "                vid_writer.write(im0)\n",
    "\n",
    "if save_txt or save_img:\n",
    "    s = f\"\\n{len(list(save_dir.glob('labels/*.txt')))} labels saved to {save_dir / 'labels'}\" if save_txt else ''\n",
    "    #print(f\"Results saved to {save_dir}{s}\")\n",
    "\n",
    "print(f'Done. ({time.time() - t0:.3f}s)')"
   ]
  },
  {
   "cell_type": "code",
   "execution_count": 36,
   "metadata": {},
   "outputs": [
    {
     "name": "stdout",
     "output_type": "stream",
     "text": [
      "video 1/1 (81/185) /home/ugrads/nonmajors/nalostta/ece5904/yolov7/../data/input_video.mp4: "
     ]
    }
   ],
   "source": [
    "im = next(iter(dataset))[1]\n",
    "im = torch.from_numpy(im).to(device)\n",
    "im = im.half() if half else im.float()\n",
    "im/=255.0\n",
    "if im.ndimension()==3:\n",
    "    im = im.unsqueeze(0)\n"
   ]
  },
  {
   "cell_type": "code",
   "execution_count": 41,
   "metadata": {},
   "outputs": [
    {
     "data": {
      "text/plain": [
       "<torch.autograd.anomaly_mode.set_detect_anomaly at 0x7f4cd2c602e0>"
      ]
     },
     "execution_count": 41,
     "metadata": {},
     "output_type": "execute_result"
    }
   ],
   "source": [
    "torch.autograd.set_detect_anomaly(True)"
   ]
  },
  {
   "cell_type": "markdown",
   "metadata": {},
   "source": [
    "torch.auto_grad.grad is called in make_graphed_callables() even when not required.\n",
    "\n",
    "> RuntimeError: One of the differentiated Tensors appears to not have been used in the graph. Set allow_unused=True if this is the desired behavior.\n",
    "\n",
    "    with torch.no_grad():\n",
    "        module1 = torch.cuda.make_graphed_callables(model, (im,), num_warmup_iters=3)\n"
   ]
  },
  {
   "cell_type": "code",
   "execution_count": 73,
   "metadata": {},
   "outputs": [],
   "source": [
    "s = torch.cuda.Stream()\n",
    "s.wait_stream(torch.cuda.current_stream())\n",
    "with torch.cuda.stream(s):\n",
    "    for i in range(3):\n",
    "        model(im)[0]\n",
    "torch.cuda.current_stream().wait_stream(s)"
   ]
  },
  {
   "cell_type": "code",
   "execution_count": 75,
   "metadata": {},
   "outputs": [],
   "source": [
    "static_input = torch.clone(im).to(device)\n"
   ]
  },
  {
   "cell_type": "code",
   "execution_count": 79,
   "metadata": {},
   "outputs": [
    {
     "ename": "RuntimeError",
     "evalue": "Cannot call CUDAGeneratorImpl::current_seed during CUDA graph capture. If you need this call to be captured, please file an issue. Current cudaStreamCaptureStatus: cudaStreamCaptureStatusActive",
     "output_type": "error",
     "traceback": [
      "\u001b[0;31m---------------------------------------------------------------------------\u001b[0m",
      "\u001b[0;31mRuntimeError\u001b[0m                              Traceback (most recent call last)",
      "Cell \u001b[0;32mIn[79], line 3\u001b[0m\n\u001b[1;32m      1\u001b[0m g \u001b[38;5;241m=\u001b[39m torch\u001b[38;5;241m.\u001b[39mcuda\u001b[38;5;241m.\u001b[39mCUDAGraph()\n\u001b[1;32m      2\u001b[0m \u001b[38;5;28;01mwith\u001b[39;00m torch\u001b[38;5;241m.\u001b[39mcuda\u001b[38;5;241m.\u001b[39mgraph(g):\n\u001b[0;32m----> 3\u001b[0m     static_pred \u001b[38;5;241m=\u001b[39m \u001b[43mmodel\u001b[49m\u001b[43m(\u001b[49m\u001b[43mim\u001b[49m\u001b[43m)\u001b[49m[\u001b[38;5;241m0\u001b[39m]\n",
      "File \u001b[0;32m~/miniconda3/envs/pt_gpu/lib/python3.9/site-packages/torch/nn/modules/module.py:1501\u001b[0m, in \u001b[0;36mModule._call_impl\u001b[0;34m(self, *args, **kwargs)\u001b[0m\n\u001b[1;32m   1496\u001b[0m \u001b[39m# If we don't have any hooks, we want to skip the rest of the logic in\u001b[39;00m\n\u001b[1;32m   1497\u001b[0m \u001b[39m# this function, and just call forward.\u001b[39;00m\n\u001b[1;32m   1498\u001b[0m \u001b[39mif\u001b[39;00m \u001b[39mnot\u001b[39;00m (\u001b[39mself\u001b[39m\u001b[39m.\u001b[39m_backward_hooks \u001b[39mor\u001b[39;00m \u001b[39mself\u001b[39m\u001b[39m.\u001b[39m_backward_pre_hooks \u001b[39mor\u001b[39;00m \u001b[39mself\u001b[39m\u001b[39m.\u001b[39m_forward_hooks \u001b[39mor\u001b[39;00m \u001b[39mself\u001b[39m\u001b[39m.\u001b[39m_forward_pre_hooks\n\u001b[1;32m   1499\u001b[0m         \u001b[39mor\u001b[39;00m _global_backward_pre_hooks \u001b[39mor\u001b[39;00m _global_backward_hooks\n\u001b[1;32m   1500\u001b[0m         \u001b[39mor\u001b[39;00m _global_forward_hooks \u001b[39mor\u001b[39;00m _global_forward_pre_hooks):\n\u001b[0;32m-> 1501\u001b[0m     \u001b[39mreturn\u001b[39;00m forward_call(\u001b[39m*\u001b[39;49margs, \u001b[39m*\u001b[39;49m\u001b[39m*\u001b[39;49mkwargs)\n\u001b[1;32m   1502\u001b[0m \u001b[39m# Do not call functions when jit is used\u001b[39;00m\n\u001b[1;32m   1503\u001b[0m full_backward_hooks, non_full_backward_hooks \u001b[39m=\u001b[39m [], []\n",
      "File \u001b[0;32m~/miniconda3/envs/pt_gpu/lib/python3.9/site-packages/torch/cuda/graphs.py:426\u001b[0m, in \u001b[0;36mmake_graphed_callables.<locals>.make_graphed_forward.<locals>.new_fwd\u001b[0;34m(*user_args)\u001b[0m\n\u001b[1;32m    422\u001b[0m \u001b[39mdef\u001b[39;00m \u001b[39mnew_fwd\u001b[39m(\u001b[39m*\u001b[39muser_args):\n\u001b[1;32m    423\u001b[0m     \u001b[39m# If the module's training-or-eval state matches what we graphed,\u001b[39;00m\n\u001b[1;32m    424\u001b[0m     \u001b[39m# run the graph, otherwise run the original forward method\u001b[39;00m\n\u001b[1;32m    425\u001b[0m     \u001b[39mif\u001b[39;00m func\u001b[39m.\u001b[39mtraining \u001b[39m==\u001b[39m graph_training_state:\n\u001b[0;32m--> 426\u001b[0m         \u001b[39mreturn\u001b[39;00m graphed(\u001b[39m*\u001b[39;49muser_args)\n\u001b[1;32m    427\u001b[0m     \u001b[39melse\u001b[39;00m:\n\u001b[1;32m    428\u001b[0m         \u001b[39mreturn\u001b[39;00m orig_fwd(\u001b[39m*\u001b[39muser_args)\n",
      "File \u001b[0;32m~/miniconda3/envs/pt_gpu/lib/python3.9/site-packages/torch/cuda/graphs.py:402\u001b[0m, in \u001b[0;36mmake_graphed_callables.<locals>.make_graphed_autograd_function.<locals>.functionalized\u001b[0;34m(*user_args)\u001b[0m\n\u001b[1;32m    397\u001b[0m \u001b[39mdef\u001b[39;00m \u001b[39mfunctionalized\u001b[39m(\u001b[39m*\u001b[39muser_args):\n\u001b[1;32m    398\u001b[0m     \u001b[39m# Runs the autograd function with inputs == all inputs to the graph that might require grad\u001b[39;00m\n\u001b[1;32m    399\u001b[0m     \u001b[39m# (explicit user args + module parameters)\u001b[39;00m\n\u001b[1;32m    400\u001b[0m     \u001b[39m# Assumes module params didn't change since capture.\u001b[39;00m\n\u001b[1;32m    401\u001b[0m     flatten_user_args, _ \u001b[39m=\u001b[39m _tree_flatten(user_args)\n\u001b[0;32m--> 402\u001b[0m     out \u001b[39m=\u001b[39m Graphed\u001b[39m.\u001b[39;49mapply(\u001b[39m*\u001b[39;49m(\u001b[39mtuple\u001b[39;49m(flatten_user_args) \u001b[39m+\u001b[39;49m module_params))\n\u001b[1;32m    403\u001b[0m     \u001b[39mreturn\u001b[39;00m _tree_unflatten(out, output_unflatten_spec)\n",
      "File \u001b[0;32m~/miniconda3/envs/pt_gpu/lib/python3.9/site-packages/torch/autograd/function.py:506\u001b[0m, in \u001b[0;36mFunction.apply\u001b[0;34m(cls, *args, **kwargs)\u001b[0m\n\u001b[1;32m    503\u001b[0m \u001b[39mif\u001b[39;00m \u001b[39mnot\u001b[39;00m torch\u001b[39m.\u001b[39m_C\u001b[39m.\u001b[39m_are_functorch_transforms_active():\n\u001b[1;32m    504\u001b[0m     \u001b[39m# See NOTE: [functorch vjp and autograd interaction]\u001b[39;00m\n\u001b[1;32m    505\u001b[0m     args \u001b[39m=\u001b[39m _functorch\u001b[39m.\u001b[39mutils\u001b[39m.\u001b[39munwrap_dead_wrappers(args)\n\u001b[0;32m--> 506\u001b[0m     \u001b[39mreturn\u001b[39;00m \u001b[39msuper\u001b[39;49m()\u001b[39m.\u001b[39;49mapply(\u001b[39m*\u001b[39;49margs, \u001b[39m*\u001b[39;49m\u001b[39m*\u001b[39;49mkwargs)  \u001b[39m# type: ignore[misc]\u001b[39;00m\n\u001b[1;32m    508\u001b[0m \u001b[39mif\u001b[39;00m \u001b[39mcls\u001b[39m\u001b[39m.\u001b[39msetup_context \u001b[39m==\u001b[39m _SingleLevelFunction\u001b[39m.\u001b[39msetup_context:\n\u001b[1;32m    509\u001b[0m     \u001b[39mraise\u001b[39;00m \u001b[39mRuntimeError\u001b[39;00m(\n\u001b[1;32m    510\u001b[0m         \u001b[39m'\u001b[39m\u001b[39mIn order to use an autograd.Function with functorch transforms \u001b[39m\u001b[39m'\u001b[39m\n\u001b[1;32m    511\u001b[0m         \u001b[39m'\u001b[39m\u001b[39m(vmap, grad, jvp, jacrev, ...), it must override the setup_context \u001b[39m\u001b[39m'\u001b[39m\n\u001b[1;32m    512\u001b[0m         \u001b[39m'\u001b[39m\u001b[39mstaticmethod. For more details, please see \u001b[39m\u001b[39m'\u001b[39m\n\u001b[1;32m    513\u001b[0m         \u001b[39m'\u001b[39m\u001b[39mhttps://pytorch.org/docs/master/notes/extending.func.html\u001b[39m\u001b[39m'\u001b[39m)\n",
      "File \u001b[0;32m~/miniconda3/envs/pt_gpu/lib/python3.9/site-packages/torch/cuda/graphs.py:377\u001b[0m, in \u001b[0;36mmake_graphed_callables.<locals>.make_graphed_autograd_function.<locals>.Graphed.forward\u001b[0;34m(ctx, *inputs)\u001b[0m\n\u001b[1;32m    375\u001b[0m     \u001b[39mif\u001b[39;00m static_input_surface[i]\u001b[39m.\u001b[39mdata_ptr() \u001b[39m!=\u001b[39m inputs[i]\u001b[39m.\u001b[39mdata_ptr():\n\u001b[1;32m    376\u001b[0m         static_input_surface[i]\u001b[39m.\u001b[39mcopy_(inputs[i])\n\u001b[0;32m--> 377\u001b[0m fwd_graph\u001b[39m.\u001b[39;49mreplay()\n\u001b[1;32m    378\u001b[0m \u001b[39massert\u001b[39;00m \u001b[39misinstance\u001b[39m(static_outputs, \u001b[39mtuple\u001b[39m)\n\u001b[1;32m    379\u001b[0m \u001b[39mreturn\u001b[39;00m \u001b[39mtuple\u001b[39m(o\u001b[39m.\u001b[39mdetach() \u001b[39mfor\u001b[39;00m o \u001b[39min\u001b[39;00m static_outputs)\n",
      "File \u001b[0;32m~/miniconda3/envs/pt_gpu/lib/python3.9/site-packages/torch/cuda/graphs.py:85\u001b[0m, in \u001b[0;36mCUDAGraph.replay\u001b[0;34m(self)\u001b[0m\n\u001b[1;32m     81\u001b[0m \u001b[39mdef\u001b[39;00m \u001b[39mreplay\u001b[39m(\u001b[39mself\u001b[39m):\n\u001b[1;32m     82\u001b[0m \u001b[39m    \u001b[39m\u001b[39mr\u001b[39m\u001b[39m\"\"\"\u001b[39;00m\n\u001b[1;32m     83\u001b[0m \u001b[39m    Replays the CUDA work captured by this graph.\u001b[39;00m\n\u001b[1;32m     84\u001b[0m \u001b[39m    \"\"\"\u001b[39;00m\n\u001b[0;32m---> 85\u001b[0m     \u001b[39msuper\u001b[39;49m()\u001b[39m.\u001b[39;49mreplay()\n",
      "\u001b[0;31mRuntimeError\u001b[0m: Cannot call CUDAGeneratorImpl::current_seed during CUDA graph capture. If you need this call to be captured, please file an issue. Current cudaStreamCaptureStatus: cudaStreamCaptureStatusActive"
     ]
    }
   ],
   "source": [
    "g = torch.cuda.CUDAGraph()\n",
    "with torch.cuda.graph(g):\n",
    "    static_pred = model(im)[0]"
   ]
  },
  {
   "cell_type": "code",
   "execution_count": 33,
   "metadata": {},
   "outputs": [
    {
     "name": "stdout",
     "output_type": "stream",
     "text": [
      "24 cars, 2 trucks, Done. (10.5ms) Inference, (1.3ms) NMS\n",
      " The image with the result is saved in: runs/detect/exp/test_img_1200x800.jpg\n",
      "Done. (0.159s)\n"
     ]
    }
   ],
   "source": [
    "###################################\n",
    "#\n",
    "# Detect function with cuda graphs\n",
    "# \n",
    "###################################\n",
    "\n",
    "t0 = time.time()\n",
    "for path, img, im0s, vid_cap in dataset:\n",
    "    img = torch.from_numpy(img).to(device)\n",
    "    img = img.half() if half else img.float()  # uint8 to fp16/32\n",
    "    img /= 255.0  # 0 - 255 to 0.0 - 1.0\n",
    "    if img.ndimension() == 3:\n",
    "        img = img.unsqueeze(0)\n",
    "\n",
    "    # Warmup\n",
    "    if device != 'cpu' and (old_img_b != img.shape[0] or old_img_h != img.shape[2] or old_img_w != img.shape[3]):\n",
    "        old_img_b = img.shape[0]\n",
    "        old_img_h = img.shape[2]\n",
    "        old_img_w = img.shape[3]\n",
    "        for i in range(3):\n",
    "            model(img, augment=augment)[0]\n",
    "\n",
    "    # Inference\n",
    "    t1 = time_synchronized()\n",
    "    with torch.no_grad():   # Calculating gradients would cause a GPU memory leak\n",
    "        pred = model(img, augment=augment)[0]\n",
    "    t2 = time_synchronized()\n",
    "\n",
    "    # Apply NMS\n",
    "    pred = non_max_suppression(pred, conf_thres, iou_thres, classes=classes, agnostic=agnostic_nms)\n",
    "    t3 = time_synchronized()\n",
    "\n",
    "    # Apply Classifier\n",
    "    if classify:\n",
    "        pred = apply_classifier(pred, modelc, img, im0s)\n",
    "\n",
    "    # Process detections\n",
    "    for i, det in enumerate(pred):  # detections per image\n",
    "        if webcam:  # batch_size >= 1\n",
    "            p, s, im0, frame = path[i], '%g: ' % i, im0s[i].copy(), dataset.count\n",
    "        else:\n",
    "            p, s, im0, frame = path, '', im0s, getattr(dataset, 'frame', 0)\n",
    "\n",
    "        p = Path(p)  # to Path\n",
    "        save_path = str(save_dir / p.name)  # img.jpg\n",
    "        txt_path = str(save_dir / 'labels' / p.stem) + ('' if dataset.mode == 'image' else f'_{frame}')  # img.txt\n",
    "        gn = torch.tensor(im0.shape)[[1, 0, 1, 0]]  # normalization gain whwh\n",
    "        if len(det):\n",
    "            # Rescale boxes from img_size to im0 size\n",
    "            det[:, :4] = scale_coords(img.shape[2:], det[:, :4], im0.shape).round()\n",
    "\n",
    "            # Print results\n",
    "            for c in det[:, -1].unique():\n",
    "                n = (det[:, -1] == c).sum()  # detections per class\n",
    "                s += f\"{n} {names[int(c)]}{'s' * (n > 1)}, \"  # add to string\n",
    "\n",
    "            # Write results\n",
    "            for *xyxy, conf, cls in reversed(det):\n",
    "                if save_txt:  # Write to file\n",
    "                    xywh = (xyxy2xywh(torch.tensor(xyxy).view(1, 4)) / gn).view(-1).tolist()  # normalized xywh\n",
    "                    line = (cls, *xywh, conf) if save_conf else (cls, *xywh)  # label format\n",
    "                    with open(txt_path + '.txt', 'a') as f:\n",
    "                        f.write(('%g ' * len(line)).rstrip() % line + '\\n')\n",
    "\n",
    "                if save_img or view_img:  # Add bbox to image\n",
    "                    label = f'{names[int(cls)]} {conf:.2f}'\n",
    "                    plot_one_box(xyxy, im0, label=label, color=colors[int(cls)], line_thickness=1)\n",
    "\n",
    "        # Print time (inference + NMS)\n",
    "        print(f'{s}Done. ({(1E3 * (t2 - t1)):.1f}ms) Inference, ({(1E3 * (t3 - t2)):.1f}ms) NMS')\n",
    "\n",
    "        # Stream results\n",
    "        if view_img:\n",
    "            cv2.imshow(str(p), im0)\n",
    "            cv2.waitKey(1)  # 1 millisecond\n",
    "\n",
    "        # Save results (image with detections)\n",
    "        if save_img:\n",
    "            if dataset.mode == 'image':\n",
    "                cv2.imwrite(save_path, im0)\n",
    "                print(f\" The image with the result is saved in: {save_path}\")\n",
    "            else:  # 'video' or 'stream'\n",
    "                if vid_path != save_path:  # new video\n",
    "                    vid_path = save_path\n",
    "                    if isinstance(vid_writer, cv2.VideoWriter):\n",
    "                        vid_writer.release()  # release previous video writer\n",
    "                    if vid_cap:  # video\n",
    "                        fps = vid_cap.get(cv2.CAP_PROP_FPS)\n",
    "                        w = int(vid_cap.get(cv2.CAP_PROP_FRAME_WIDTH))\n",
    "                        h = int(vid_cap.get(cv2.CAP_PROP_FRAME_HEIGHT))\n",
    "                    else:  # stream\n",
    "                        fps, w, h = 30, im0.shape[1], im0.shape[0]\n",
    "                        save_path += '.mp4'\n",
    "                    vid_writer = cv2.VideoWriter(save_path, cv2.VideoWriter_fourcc(*'mp4v'), fps, (w, h))\n",
    "                vid_writer.write(im0)\n",
    "\n",
    "if save_txt or save_img:\n",
    "    s = f\"\\n{len(list(save_dir.glob('labels/*.txt')))} labels saved to {save_dir / 'labels'}\" if save_txt else ''\n",
    "    #print(f\"Results saved to {save_dir}{s}\")\n",
    "\n",
    "print(f'Done. ({time.time() - t0:.3f}s)')"
   ]
  },
  {
   "cell_type": "code",
   "execution_count": null,
   "metadata": {},
   "outputs": [],
   "source": [
    "#if __name__ == '__main__':\n",
    "#    parser = argparse.ArgumentParser()\n",
    "#    parser.add_argument('--weights', nargs='+', type=str, default='yolov7.pt', help='model.pt path(s)')\n",
    "#    parser.add_argument('--source', type=str, default='inference/images', help='source')  # file/folder, 0 for webcam\n",
    "#    parser.add_argument('--img-size', type=int, default=640, help='inference size (pixels)')\n",
    "#    parser.add_argument('--conf-thres', type=float, default=0.25, help='object confidence threshold')\n",
    "#    parser.add_argument('--iou-thres', type=float, default=0.45, help='IOU threshold for NMS')\n",
    "#    parser.add_argument('--device', default='', help='cuda device, i.e. 0 or 0,1,2,3 or cpu')\n",
    "#    parser.add_argument('--classes', nargs='+', type=int, help='filter by class: --class 0, or --class 0 2 3')\n",
    "#    parser.add_argument('--project', default='runs/detect', help='save results to project/name')\n",
    "#    parser.add_argument('--name', default='exp', help='save results to project/name')\n",
    "#\n",
    "#    parser.add_argument('--view-img', action='store_true', help='display results')\n",
    "#    parser.add_argument('--save-txt', action='store_true', help='save results to *.txt')\n",
    "#    parser.add_argument('--save-conf', action='store_true', help='save confidences in --save-txt labels')\n",
    "#    parser.add_argument('--nosave', action='store_true', help='do not save images/videos')\n",
    "#    parser.add_argument('--agnostic-nms', action='store_true', help='class-agnostic NMS')\n",
    "#    parser.add_argument('--augment', action='store_true', help='augmented inference')\n",
    "#    parser.add_argument('--update', action='store_true', help='update all models')\n",
    "#    parser.add_argument('--exist-ok', action='store_true', help='existing project/name ok, do not increment')\n",
    "#    parser.add_argument('--no-trace', action='store_true', help='don`t trace model')\n",
    "#    opt = parser.parse_args()\n",
    "#    print(opt)\n",
    "#    #check_requirements(exclude=('pycocotools', 'thop'))\n",
    "#\n",
    "#    with torch.no_grad():\n",
    "#        if opt.update:  # update all models (to fix SourceChangeWarning)\n",
    "#            for opt.weights in ['yolov7.pt']:\n",
    "#                detect()\n",
    "#                strip_optimizer(opt.weights)\n",
    "#        else:\n",
    "#            detect()"
   ]
  }
 ],
 "metadata": {
  "kernelspec": {
   "display_name": "Python 3.9.15 ('pt_gpu': conda)",
   "language": "python",
   "name": "python3"
  },
  "language_info": {
   "codemirror_mode": {
    "name": "ipython",
    "version": 3
   },
   "file_extension": ".py",
   "mimetype": "text/x-python",
   "name": "python",
   "nbconvert_exporter": "python",
   "pygments_lexer": "ipython3",
   "version": "3.9.15"
  },
  "orig_nbformat": 4,
  "vscode": {
   "interpreter": {
    "hash": "b01c6f871d9788711fbb562e02da772ab6803a8aad9db68f56d9b3305279e7f6"
   }
  }
 },
 "nbformat": 4,
 "nbformat_minor": 2
}
